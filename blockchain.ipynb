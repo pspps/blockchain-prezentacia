{
 "cells": [
  {
   "cell_type": "markdown",
   "metadata": {
    "slideshow": {
     "slide_type": "slide"
    }
   },
   "source": [
    "# Blockchain"
   ]
  },
  {
   "cell_type": "markdown",
   "metadata": {
    "slideshow": {
     "slide_type": "slide"
    }
   },
   "source": [
    "# Mathematical base"
   ]
  },
  {
   "cell_type": "markdown",
   "metadata": {
    "slideshow": {
     "slide_type": "subslide"
    }
   },
   "source": [
    "## Cryptographic hash function"
   ]
  },
  {
   "cell_type": "markdown",
   "metadata": {},
   "source": [
    "- $Hash: \\mathbb{Z} \\rightarrow \\mathbb{Z}_{2^n}: x \\mapsto rand$\n",
    "- Value of hash is unpredictable until you know ENTIRE input\n",
    "- Hard to find collision: $a, b: hash(a) = hash(b)$\n",
    "- Can be used as deterministic random generator\n",
    "\n",
    "example: sha256, cryptonight, scrypt, x11"
   ]
  },
  {
   "cell_type": "markdown",
   "metadata": {
    "slideshow": {
     "slide_type": "subslide"
    }
   },
   "source": [
    "### Hashcash"
   ]
  },
  {
   "cell_type": "markdown",
   "metadata": {},
   "source": [
    "- Antispam/DOS system\n",
    "- Client puzzle implementation of Proof of work system\n",
    " - Problem: You want to distinguish between regular user of service and attackers who make flood of cheap requests for expensive resource\n",
    " - Solution: Every client must proof its spend significant time to solve math problem(puzzle)\n",
    "   - Puzzle: find *data*: HASH(*data*) < difficulty"
   ]
  },
  {
   "cell_type": "markdown",
   "metadata": {
    "slideshow": {
     "slide_type": "subslide"
    }
   },
   "source": [
    "## ECDSA/Digital signature scheme"
   ]
  },
  {
   "cell_type": "markdown",
   "metadata": {},
   "source": [
    "- Alice want to proof Bob that message is created by Alice\n",
    "- Alice generate key pair of $K_{priv}$(private key, ex. $a \\in \\mathbb{Z}_{|G|}$) and $K_{pub}$(public key, ex. aG, G is generator of aditive group)\n",
    "- Alice make $K_{pub}$ public to everybody in the world in trusted way\n",
    "- Alice calculate $signature = Sign(message, K_{priv})$ and attach it to message\n",
    "- Everybody can calculate $Verify(signature, message, K_{pub})$ and verify if $signature$ create owner of $K_{priv}$\n",
    "- $Sign$ is typically encryption and $Verify$ is decryption"
   ]
  },
  {
   "cell_type": "markdown",
   "metadata": {
    "slideshow": {
     "slide_type": "slide"
    }
   },
   "source": [
    "# Context"
   ]
  },
  {
   "cell_type": "markdown",
   "metadata": {
    "slideshow": {
     "slide_type": "subslide"
    }
   },
   "source": [
    "## P2P"
   ]
  },
  {
   "cell_type": "markdown",
   "metadata": {},
   "source": [
    "- Type of protocols without central element\n",
    "- Every user communicate(mostly) with another users, which provide service and informations about another nodes\n",
    "- Commonly used for communication, data sharing, anonymity\n",
    "- These protocols have big throughput, capacity, are anonymous and hard to ban"
   ]
  },
  {
   "cell_type": "markdown",
   "metadata": {
    "slideshow": {
     "slide_type": "subslide"
    }
   },
   "source": [
    "## Crypto-anarchism"
   ]
  },
  {
   "cell_type": "markdown",
   "metadata": {},
   "source": [
    "- Political movement which wants to use strong cryptography to protect privacy, [pseudo]anonymity and personal freedom\n",
    "- They use concepts like smart contracts and technology like tor, i2p, freenet, torbrowser and lot of P2P/decentralized networks\n",
    "- They want to protect individuals against mass surveillance\n",
    "- In contrast of regulation they prefer reputation, decentralized leadership, economical freedom...\n",
    "- They prefer decentralized [pseudo]anonym money, markets, contracts..."
   ]
  },
  {
   "cell_type": "markdown",
   "metadata": {
    "slideshow": {
     "slide_type": "slide"
    }
   },
   "source": [
    "# Bitcoin"
   ]
  },
  {
   "cell_type": "markdown",
   "metadata": {},
   "source": [
    "- 3 January 2009 anonym under nickname Satoshi Nakamoto started bitcoin\n",
    "- It is distributed system for managing tokens which should be used as a currency\n",
    "- All transactions are public and pseudonymous\n",
    "- Based on technology named blockchain\n",
    "- Associated P2P protocol for share blockchain and transactions"
   ]
  },
  {
   "cell_type": "markdown",
   "metadata": {
    "slideshow": {
     "slide_type": "subslide"
    }
   },
   "source": [
    "## Bitcoin transactions"
   ]
  },
  {
   "cell_type": "markdown",
   "metadata": {},
   "source": [
    "- Based on digital signature scheme\n",
    "- You have your wallet with associated addresses\n",
    "- Address is public key\n",
    "- Every transaction from an address must be signed by private key associated with address"
   ]
  },
  {
   "cell_type": "markdown",
   "metadata": {
    "slideshow": {
     "slide_type": "subslide"
    }
   },
   "source": [
    "## Blockchain"
   ]
  },
  {
   "cell_type": "markdown",
   "metadata": {},
   "source": [
    "- Concept to provide nonrepudation of operations over managed dataset(ex. Bitcoins)\n",
    "- Backward linked list of basic elements: blocks\n",
    "- Every block contains verified operation over managed dataset\n",
    "- Blockchain guarantee integrity of blockchain, validity of operations and exiting blocks can not be modified or replaced(really?)\n",
    "- There is a decentralized protocol to obtain blockchain and share new operations over dataset"
   ]
  },
  {
   "cell_type": "markdown",
   "metadata": {
    "slideshow": {
     "slide_type": "subslide"
    }
   },
   "source": [
    "## Bitcoin block structure"
   ]
  },
  {
   "cell_type": "markdown",
   "metadata": {},
   "source": [
    "- Header\n",
    " - Hash(prev_block)\n",
    " - Merkle tree root of transactions(hash(Transactions))\n",
    " - Timestamp\n",
    " - Proof of work\n",
    "   - Target\n",
    "   - Nonce\n",
    "- Transaction...\n",
    " - Input...\n",
    "    - Hash(transaction)\n",
    "    - Input script\n",
    " - Output...\n",
    "    - Amount\n",
    "    - Output script"
   ]
  },
  {
   "cell_type": "markdown",
   "metadata": {
    "slideshow": {
     "slide_type": "subslide"
    }
   },
   "source": [
    "## Block generation"
   ]
  },
  {
   "cell_type": "markdown",
   "metadata": {},
   "source": [
    "- Group of users named miners participate on generating of a new block\n",
    "- They vote for influence in generating process\n",
    "- \"One person/CPU, one vote\"\n",
    "- Author of new block get reward(FIX value(temporary) + transaction fees)\n",
    "- Fix reward is only way how new bitcoin is created\n",
    "- How to determine regular votes and attacker in P2P world?"
   ]
  },
  {
   "cell_type": "markdown",
   "metadata": {
    "slideshow": {
     "slide_type": "subslide"
    }
   },
   "source": [
    "### Proof of work"
   ]
  },
  {
   "cell_type": "markdown",
   "metadata": {},
   "source": [
    "- Hashcash like concept of voting\n",
    "- \"one hash/10min calculation, one vote\"\n",
    "- Every valid block must contains \"Proof of work\"\n",
    "- Proof of work: nonce: $hash(block_{header}, nonce) < difficulty$\n",
    "- Difficulty is calculated from previous blocks timestamp to new block will be created every *PROTOCOL_CONSTANT* seconds\n",
    "- If two valid ancestor blocks are mined, every miner select one and longer chain win"
   ]
  },
  {
   "cell_type": "markdown",
   "metadata": {
    "slideshow": {
     "slide_type": "slide"
    }
   },
   "source": [
    "# After bitcoin"
   ]
  },
  {
   "cell_type": "markdown",
   "metadata": {
    "slideshow": {
     "slide_type": "subslide"
    }
   },
   "source": [
    "## Another cryptocurences "
   ]
  },
  {
   "cell_type": "markdown",
   "metadata": {},
   "source": [
    "1. Bitcoin\n",
    "1. Ethereum\n",
    "1. XRP\n",
    "1. Bitcoin Cash\n",
    "1. Bitcoin SV\n",
    "1. Tether\n",
    "1. Litecoin\n",
    "1. EOS\n",
    "1. Binance Coin\n",
    "1. Cardano\n",
    "1. Ethereum Classic\n",
    "1. TRON\n",
    "1. Monero\n",
    "1. Stellar\n",
    "1. Dash"
   ]
  },
  {
   "cell_type": "markdown",
   "metadata": {
    "slideshow": {
     "slide_type": "subslide"
    }
   },
   "source": [
    "## Another uses of blockchain"
   ]
  },
  {
   "cell_type": "markdown",
   "metadata": {},
   "source": [
    "- Decentralized computing(golem project)\n",
    "- Health care\n",
    "- Social networks\n",
    "- Decentralized markets&reputation systems\n",
    "- Egoverment\n",
    "- Banking system\n",
    "- Election\n",
    "- PKI"
   ]
  },
  {
   "cell_type": "markdown",
   "metadata": {
    "slideshow": {
     "slide_type": "subslide"
    }
   },
   "source": [
    "## Bitcoin script"
   ]
  },
  {
   "cell_type": "markdown",
   "metadata": {},
   "source": [
    "- Bitcoin transaction target/source is executable code named *output/input script*\n",
    "- Output script says when another transaction can manipulate with bitcoins\n",
    "- Input script of valid transaction must satisfy criteria from output script\n",
    "- Both are written in Bitcoin Script\n",
    "- Bitcoins script is simple stack based low level language\n",
    "- Bitcoins script IS NOT turing complete"
   ]
  },
  {
   "cell_type": "markdown",
   "metadata": {
    "slideshow": {
     "slide_type": "subslide"
    }
   },
   "source": [
    "## Smart contracts"
   ]
  },
  {
   "cell_type": "markdown",
   "metadata": {},
   "source": [
    "- Contracts which itself enforce contract rules\n",
    "- Contract can be any function implement in specific programming language\n",
    "- Bitcoin Script can be used to create simple smart contracts\n",
    "- You can have time depend transaction, check signature, basic flow control, arithmetic, stack operation and crypto primitives"
   ]
  },
  {
   "cell_type": "markdown",
   "metadata": {
    "slideshow": {
     "slide_type": "slide"
    }
   },
   "source": [
    "# Eth"
   ]
  },
  {
   "cell_type": "markdown",
   "metadata": {},
   "source": [
    "- created 30 July 2015 by Vitalik Buterin\n",
    "- It provide blockchain based virtual machine as replacement for bitcoin script"
   ]
  },
  {
   "cell_type": "markdown",
   "metadata": {
    "slideshow": {
     "slide_type": "subslide"
    }
   },
   "source": [
    "## Ethereum Virtual Machine"
   ]
  },
  {
   "cell_type": "markdown",
   "metadata": {},
   "source": [
    "- Turing complete\n",
    "- Support persistent state\n",
    "- Optimized to create complex applications\n",
    "- Hight level languages can be compiled to ethereum script\n",
    "- You pay for every operation\n",
    "- Often used to create smart contracts"
   ]
  },
  {
   "cell_type": "markdown",
   "metadata": {
    "slideshow": {
     "slide_type": "subslide"
    }
   },
   "source": [
    "## Example of applications"
   ]
  },
  {
   "cell_type": "markdown",
   "metadata": {},
   "source": [
    "- Digital cryptocurrency\n",
    "- Casino\n",
    "- Games\n",
    "- Social applications\n",
    "- Markets\n",
    "- Decentralized Uber"
   ]
  },
  {
   "cell_type": "markdown",
   "metadata": {
    "slideshow": {
     "slide_type": "subslide"
    }
   },
   "source": [
    "## DAO(Decentralized autonomous organization)"
   ]
  },
  {
   "cell_type": "markdown",
   "metadata": {},
   "source": [
    "- Company with leadership based on smart contract\n",
    "- It must be online business or require trusted connection to real word\n",
    "- Example: prediction market, social media, leadership of cryptocurrency"
   ]
  },
  {
   "cell_type": "markdown",
   "metadata": {
    "slideshow": {
     "slide_type": "subslide"
    }
   },
   "source": [
    "### The DAO"
   ]
  },
  {
   "cell_type": "markdown",
   "metadata": {},
   "source": [
    "- DAO organization\n",
    "- Venture capital fund\n",
    "- Based on eth\n",
    "- It take capital from investors in eth\n",
    "- It had more then  \\$150M asset in 2016\n",
    "- ~14\\% ether was attracted by the DAO\n",
    "- It was traded in main exchanges"
   ]
  },
  {
   "cell_type": "markdown",
   "metadata": {
    "slideshow": {
     "slide_type": "slide"
    }
   },
   "source": [
    "# [not]issues of blockchain and cryptocurrency"
   ]
  },
  {
   "cell_type": "markdown",
   "metadata": {
    "slideshow": {
     "slide_type": "subslide"
    }
   },
   "source": [
    "## [Pseudo]anonymity"
   ]
  },
  {
   "cell_type": "markdown",
   "metadata": {},
   "source": [
    "- Bitcoin is relatively anonymous pay method\n",
    "- It can be simply used to illegal activities\n",
    "- Anybody can publish anything to blockchain\n",
    "- It complicates legal status of cryptocurrency"
   ]
  },
  {
   "cell_type": "markdown",
   "metadata": {
    "slideshow": {
     "slide_type": "subslide"
    }
   },
   "source": [
    "## Monero"
   ]
  },
  {
   "cell_type": "markdown",
   "metadata": {},
   "source": [
    "- Focused on anonymity\n",
    "- Stealth address: You can use only randomized one time address\n",
    "- Ring signature: You can not distinguish specific sender\n",
    "- Bullet proof: You can not get amount of XMR"
   ]
  },
  {
   "cell_type": "markdown",
   "metadata": {
    "slideshow": {
     "slide_type": "subslide"
    }
   },
   "source": [
    "## Block size"
   ]
  },
  {
   "cell_type": "markdown",
   "metadata": {},
   "source": [
    "- Every network node store whole copy of all transactions\n",
    "- Storage requirement for network node constantly grow\n",
    "- Bitcoin: ~250GB, Ethereum: ~210GB\n",
    "- You can be cryptocurrency user without being a network node\n",
    "- This helps vendor lock-in"
   ]
  },
  {
   "cell_type": "markdown",
   "metadata": {
    "slideshow": {
     "slide_type": "subslide"
    }
   },
   "source": [
    "## Cryptography and implementation depend"
   ]
  },
  {
   "cell_type": "markdown",
   "metadata": {},
   "source": [
    "- Cryptocurrency is dependend on cryptographic primitives(hash, sign scheme)\n",
    "- Ex. bitcoin use double sha256 and ECDSA over Secp256k1\n",
    "- If someone breaks this primitives, if can be fatal for cryptocurrency\n",
    "- Also, an implementation of protocol/wallet or protocol itself can contain bugs\n",
    "- Ex. there were few Bitcoin script optcodes which had an security issue"
   ]
  },
  {
   "cell_type": "markdown",
   "metadata": {
    "slideshow": {
     "slide_type": "subslide"
    }
   },
   "source": [
    "## Forks and development"
   ]
  },
  {
   "cell_type": "markdown",
   "metadata": {},
   "source": [
    "- P2P nature of blockchain means that majority decide about new features and valid state(a type of democracy enforcement)\n",
    "- Every new feature must be accepted by majority\n",
    "- Sometimes minority can be enforced to change\n",
    "- Every new feature cause fork of blockchain\n",
    "- There are 3 kinds of fork\n",
    " - Temporary fork: when 2 miners create block at once(protocol solve this)"
   ]
  },
  {
   "cell_type": "markdown",
   "metadata": {
    "slideshow": {
     "slide_type": "subslide"
    }
   },
   "source": [
    "### Softfork"
   ]
  },
  {
   "cell_type": "markdown",
   "metadata": {},
   "source": [
    "- Let `new` user/miners accept change, `old` reject\n",
    "- Backward compatible change, every `old` user accept block by `new` miners as valid\n",
    "- `new` miners accept only block by `new` miners\n",
    "- If more than 51% hashpower is `new`, `new` chain will be longer, fork is successful and all user(not necessarily miners) will use `new` chain\n",
    "- `old` users are still valid, but do not understand new feature"
   ]
  },
  {
   "cell_type": "markdown",
   "metadata": {
    "slideshow": {
     "slide_type": "subslide"
    }
   },
   "source": [
    "### Hardfork"
   ]
  },
  {
   "cell_type": "markdown",
   "metadata": {},
   "source": [
    "- `new` block are not valid for `old` users\n",
    "- There is created 2 separate networks, for `old` and for `new` users and miners\n",
    "- If any users stays in `old` network, fork become persistent"
   ]
  },
  {
   "cell_type": "markdown",
   "metadata": {
    "slideshow": {
     "slide_type": "subslide"
    }
   },
   "source": [
    "## Double spend/51% attack"
   ]
  },
  {
   "cell_type": "markdown",
   "metadata": {},
   "source": [
    "- Blockchain can split to multiple separate chains\n",
    "- Longest chain wins\n",
    "- Attacker can adds transaction to one chain and another to different one\n",
    "- Victim can receives resource in chain which will be dropped\n",
    "- POW: If you have more 51% of network hashpower, you have full control of creating block"
   ]
  },
  {
   "cell_type": "markdown",
   "metadata": {
    "slideshow": {
     "slide_type": "subslide"
    }
   },
   "source": [
    "## POW"
   ]
  },
  {
   "cell_type": "markdown",
   "metadata": {
    "slideshow": {
     "slide_type": "subslide"
    }
   },
   "source": [
    "### ASIC"
   ]
  },
  {
   "cell_type": "markdown",
   "metadata": {},
   "source": [
    "- Specialized hardware(ASIC) can mine significantly faster than CPU/GPU\n",
    "- This break \"One CPU, one vote\" rule\n",
    "- BTC: CPU/GPU hash rate is in gigahash scale\n",
    "- BTC: ASIC hash rate is in terahash scale\n",
    "- An cryptocurrencies try to reduce profitability of ASIC by memory requirements(ethereum) or memory latency(monero)"
   ]
  },
  {
   "cell_type": "markdown",
   "metadata": {
    "slideshow": {
     "slide_type": "subslide"
    }
   },
   "source": [
    "### Eko"
   ]
  },
  {
   "cell_type": "markdown",
   "metadata": {},
   "source": [
    "- It is hard to measure ecological impact of PoW\n",
    "- Source1:\n",
    " - Bitcoin miners burn ~70 TWh/year (comparable to Austria in 2015)\n",
    " - Earth production was 19,504TWH/year\n",
    " - This is approximately .35% of Earth production\n",
    "- Source2:\n",
    " - Bitcoin and Ethereum burn over \\$1M worth of electricity"
   ]
  },
  {
   "cell_type": "markdown",
   "metadata": {
    "slideshow": {
     "slide_type": "subslide"
    }
   },
   "source": [
    "### Proof of stake"
   ]
  },
  {
   "cell_type": "markdown",
   "metadata": {},
   "source": [
    "- Alternative to Proof of work\n",
    "- There is group of stakeholders(ex. to miners)\n",
    "- Every stakeholder must give an resource(ex. deposit coins)\n",
    "- Every stakeholder have *number of stake* based on number of resource\n",
    "- There are selected stakeholders responsible for creating block\n",
    "- Stakeholders are selected randomly based on *number of stake*"
   ]
  },
  {
   "cell_type": "markdown",
   "metadata": {
    "slideshow": {
     "slide_type": "subslide"
    }
   },
   "source": [
    "## Scalability"
   ]
  },
  {
   "cell_type": "markdown",
   "metadata": {},
   "source": [
    "- Block can have limited size\n",
    "- Throughput:\n",
    " - BTC ~5transaction/s\n",
    " - ETH ~13transaction/s\n",
    " - XRP ~1,500transaction/s\n",
    " - VISA ~65,000transaction/s"
   ]
  },
  {
   "cell_type": "markdown",
   "metadata": {
    "slideshow": {
     "slide_type": "subslide"
    }
   },
   "source": [
    "## Verification time"
   ]
  },
  {
   "cell_type": "markdown",
   "metadata": {},
   "source": [
    "- To prevent double spend you should accept transaction if it is in chain of multiple blocks\n",
    "- Confirmation time:\n",
    " - BTC: 60min(6 blocks * 10min/block)\n",
    " - ETH: 3min(12 blocks * 15s/block)\n",
    " - XRP: 4s"
   ]
  },
  {
   "cell_type": "markdown",
   "metadata": {
    "slideshow": {
     "slide_type": "subslide"
    }
   },
   "source": [
    "## Legal status"
   ]
  },
  {
   "cell_type": "markdown",
   "metadata": {},
   "source": [
    "- Regulations?\n",
    "- Tax?\n",
    "- Is is legal pay method?\n",
    "- Enforcement of smart contract?"
   ]
  },
  {
   "cell_type": "markdown",
   "metadata": {
    "slideshow": {
     "slide_type": "subslide"
    }
   },
   "source": [
    "## Non reversibility"
   ]
  },
  {
   "cell_type": "markdown",
   "metadata": {},
   "source": [
    "- There is not authority which can decides refund\n",
    "- Realized transaction can not be rollbacked[really?]\n",
    "- Typo in address causes final lost of coins"
   ]
  },
  {
   "cell_type": "markdown",
   "metadata": {
    "slideshow": {
     "slide_type": "subslide"
    }
   },
   "source": [
    "### The DAO"
   ]
  },
  {
   "cell_type": "markdown",
   "metadata": {},
   "source": [
    "- June 17, 2016 was performed successful attack on the DAO\n",
    "- There was transaction which tried transfer 3.6M ether(\\$50M, 1/3 of fund) to attacker account\n",
    "- This was practically end of the DAO\n",
    "- Most miners, users and developers agreed that blocks which contains attack will be reverted and create fork of blockchain\n",
    "- Old blockchain is still alive under name Ethereum classic"
   ]
  },
  {
   "cell_type": "markdown",
   "metadata": {
    "slideshow": {
     "slide_type": "subslide"
    }
   },
   "source": [
    "## Online/P2P"
   ]
  },
  {
   "cell_type": "markdown",
   "metadata": {},
   "source": [
    "- Offline transaction is not supported by concept(really?)\n",
    "- Regulation is problematic\n",
    "- P2P system is hard to deny"
   ]
  },
  {
   "cell_type": "markdown",
   "metadata": {
    "slideshow": {
     "slide_type": "subslide"
    }
   },
   "source": [
    "## Is it real currency"
   ]
  },
  {
   "cell_type": "markdown",
   "metadata": {},
   "source": [
    "- Significant number of holders use it as an investment only\n",
    "- Cryptocurrency has very big volatility\n",
    "- There is a big diversity\n",
    "- There is no realtime transactions(really?)"
   ]
  },
  {
   "cell_type": "markdown",
   "metadata": {
    "slideshow": {
     "slide_type": "slide"
    }
   },
   "source": [
    "# Thank you for your attention\n",
    "## ?? Questions ??"
   ]
  }
 ],
 "metadata": {
  "kernelspec": {
   "display_name": "Python 3",
   "language": "python",
   "name": "python3"
  },
  "language_info": {
   "codemirror_mode": {
    "name": "ipython",
    "version": 3
   },
   "file_extension": ".py",
   "mimetype": "text/x-python",
   "name": "python",
   "nbconvert_exporter": "python",
   "pygments_lexer": "ipython3",
   "version": "3.6.9"
  }
 },
 "nbformat": 4,
 "nbformat_minor": 4
}
